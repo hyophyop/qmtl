{
 "cells": [
  {
   "cell_type": "markdown",
   "metadata": {},
   "source": [
    "# Strategy Analysis Example\n\nExecute the single indicator template via Runner.run through the WorldService and plot the results."
   ]
  },
  {
   "cell_type": "code",
   "execution_count": null,
   "metadata": {},
   "outputs": [],
   "source": [
    "import pandas as pd\n",
    "import matplotlib.pyplot as plt\n",
    "\n",
    "from qmtl.examples.templates.single_indicator import SingleIndicatorStrategy\n",
    "from qmtl.runtime.sdk import Runner\n",
    "\n",
    "strategy = Runner.run(\n",
    "    SingleIndicatorStrategy,\n",
    "    world_id='analysis',\n",
    "    gateway_url='http://localhost:8000',\n",
    ")\n",
    "\n",
    "price_snap = strategy.nodes[0].cache._snapshot()[strategy.nodes[0].node_id][strategy.nodes[0].interval]\n",
    "ema_snap = strategy.nodes[1].cache._snapshot()[strategy.nodes[1].node_id][strategy.nodes[1].interval]\n",
    "price = pd.DataFrame(price_snap, columns=['ts', 'payload'])\n",
    "price['close'] = price['payload'].apply(lambda p: p['close'])\n",
    "ema = pd.DataFrame(ema_snap, columns=['ts', 'ema'])\n",
    "merged = pd.merge(price[['ts', 'close']], ema, on='ts')\n",
    "merged.set_index('ts')[['close', 'ema']].plot()\n",
    "plt.show()\n"
   ]
  }
 ],
 "metadata": {
  "kernelspec": {
   "display_name": "Python 3",
   "language": "python",
   "name": "python3"
  },
  "language_info": {
   "name": "python",
   "version": "3.11"
  }
 },
 "nbformat": 4,
 "nbformat_minor": 2
}
